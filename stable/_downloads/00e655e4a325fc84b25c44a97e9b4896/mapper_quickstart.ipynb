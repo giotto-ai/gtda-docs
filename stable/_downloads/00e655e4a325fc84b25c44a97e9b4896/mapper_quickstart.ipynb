{
  "cells": [
    {
      "cell_type": "code",
      "execution_count": null,
      "metadata": {
        "collapsed": false
      },
      "outputs": [],
      "source": [
        "%matplotlib inline"
      ]
    },
    {
      "cell_type": "markdown",
      "metadata": {},
      "source": [
        "\nGetting Started with Mapper\n===========================\n\nIn this notebook we explore a few of the core features included in\ngiotto-tda\u2019s implementation of the `Mapper\nalgorithm <https://research.math.osu.edu/tgda/mapperPBG.pdf>`__.\n\nUseful references\n-----------------\n\n-  `An introduction to Topological Data Analysis: fundamental and\n   practical aspects for data\n   scientists <https://arxiv.org/abs/1710.04019>`__\n-  `An Introduction to Topological Data Analysis for Physicists: From\n   LGM to FRBs <https://arxiv.org/abs/1904.11044>`__\n\nLicense: AGPLv3\n^^^^^^^^^^^^^^^\n"
      ]
    },
    {
      "cell_type": "markdown",
      "metadata": {},
      "source": [
        "Import libraries\n----------------\n\n\n"
      ]
    },
    {
      "cell_type": "code",
      "execution_count": null,
      "metadata": {
        "collapsed": false
      },
      "outputs": [],
      "source": [
        "# Data wrangling\nimport numpy as np\nimport pandas as pd  # Not a requirement of giotto-tda, but is compatible with the gtda.mapper module\n\n# Data viz\nfrom plotting import plot_point_cloud\n\n# TDA magic\nfrom gtda.mapper import (\n    CubicalCover,\n    make_mapper_pipeline,\n    Projection,\n    plot_static_mapper_graph,\n    plot_interactive_mapper_graph,\n)\nfrom gtda.mapper.utils.visualization import set_node_sizeref\n\n# ML tools\nfrom sklearn import datasets\nfrom sklearn.cluster import DBSCAN\nfrom sklearn.decomposition import PCA\n\nimport warnings\n\nwarnings.simplefilter(action=\"ignore\", category=FutureWarning)"
      ]
    },
    {
      "cell_type": "markdown",
      "metadata": {},
      "source": [
        "Generate and visualise data\n---------------------------\n\nAs a simple example, let\u2019s generate a two-dimensional point cloud of two\nconcentric circles. The goal will be to examine how Mapper can be used\nto generate a topological graph that captures the salient features of\nthe data.\n\n\n"
      ]
    },
    {
      "cell_type": "code",
      "execution_count": null,
      "metadata": {
        "collapsed": false
      },
      "outputs": [],
      "source": [
        "data, _ = datasets.make_circles(n_samples=5000, noise=0.05, factor=0.3, random_state=42)\n\nplot_point_cloud(data)"
      ]
    },
    {
      "cell_type": "markdown",
      "metadata": {},
      "source": [
        "Configure the Mapper pipeline\n-----------------------------\n\nGiven a dataset ${\\cal D}$ of points $x \\in \\mathbb{R}^n$,\nthe basic steps behind Mapper are as follows:\n\n1. Map ${\\cal D}$ to a lower-dimensional space using a **filter\n   function** $ f: :raw-latex:`\\mathbb{R}`^n\n   :raw-latex:`\\to `:raw-latex:`\\mathbb{R}`^m $. Common choices for the\n   filter function include projection onto one or more axes via PCA or\n   density-based methods. In giotto-tda, you can import a variety of\n   filter functions as follows:\n\n.. code:: python\n\n   from gtda.mapper.filter import FilterFunctionName\n\n2. Construct a cover of the filter values\n   ${\\cal U} = (U_i)_{i\\in I}$, typically in the form of a set of\n   overlapping intervals which have constant length. As with the filter,\n   a choice of cover can be imported as follows:\n\n.. code:: python\n\n   from gtda.mapper.cover import CoverName\n\n3. For each interval $U_i \\in {\\cal U}$ cluster the points in the\n   preimage $f^{-1}(U_i)$ into sets\n   $C_{i,1}, \\ldots , C_{i,k_i}$. The choice of clustering\n   algorithm can be any of scikit-learn\u2019s `clustering\n   methods <https://scikit-learn.org/stable/modules/clustering.html>`__\n   or an implementation of agglomerative clustering in giotto-tda:\n\n.. code:: python\n\n   # scikit-learn method\n   from sklearn.cluster import ClusteringAlgorithm\n   # giotto-tda method\n   from gtda.mapper.cluster import FirstSimpleGap\n\n4. Construct the topological graph whose vertices are the cluster sets\n   $(C_{i,j})_{i\\in I, j \\in \\{1,\\ldots,k_i\\}}$ and an edge exists\n   between two nodes if they share points in common:\n   $C_{i,j} \\cap C_{k,l} \\neq \\emptyset$. This step is handled\n   automatically by giotto-tda.\n\nThese four steps are implemented in the ``MapperPipeline`` object that\nmimics the ``Pipeline`` class from scikit-learn. We provide a\nconvenience function ``make_mapper_pipeline()`` that allows you to pass\nthe choice of filter function, cover, and clustering algorithm as\narguments. For example, to project our data onto the $x$- and\n$y$-axes, we could setup the pipeline as follows:\n\n\n"
      ]
    },
    {
      "cell_type": "code",
      "execution_count": null,
      "metadata": {
        "collapsed": false
      },
      "outputs": [],
      "source": [
        "# Define filter function - can be any scikit-learn transformer\nfilter_func = Projection(columns=[0, 1])\n# Define cover\ncover = CubicalCover(n_intervals=10, overlap_frac=0.3)\n# Choose clustering algorithm - default is DBSCAN\nclusterer = DBSCAN()\n\n# Configure parallelism of clustering step\nn_jobs = 1\n\n# Initialise pipeline\npipe = make_mapper_pipeline(\n    filter_func=filter_func,\n    cover=cover,\n    clusterer=clusterer,\n    verbose=False,\n    n_jobs=n_jobs,\n)"
      ]
    },
    {
      "cell_type": "markdown",
      "metadata": {},
      "source": [
        "Visualise the Mapper graph\n--------------------------\n\n\n"
      ]
    },
    {
      "cell_type": "markdown",
      "metadata": {},
      "source": [
        "With the Mapper pipeline at hand, it is now a simple matter to visualise\nit. To warm up, let\u2019s examine the graph in two-dimensions using the\ndefault arguments of giotto-tda\u2019s plotting function:\n\n\n"
      ]
    },
    {
      "cell_type": "code",
      "execution_count": null,
      "metadata": {
        "collapsed": false
      },
      "outputs": [],
      "source": [
        "fig = plot_static_mapper_graph(pipe, data)\n# Display figure\nfig.show(config={\"scrollZoom\": True})"
      ]
    },
    {
      "cell_type": "markdown",
      "metadata": {},
      "source": [
        "From the figure we can see that we have captured the salient topological\nfeatures of our underlying data, namely two holes!\n\n\n"
      ]
    },
    {
      "cell_type": "markdown",
      "metadata": {},
      "source": [
        "Configure the coloring of the Mapper graph\n~~~~~~~~~~~~~~~~~~~~~~~~~~~~~~~~~~~~~~~~~~\n\nBy default, the nodes of the Mapper graph are colored by the mean value\nof the points that belong to a given node. However, in this example it\nis more instructive to colour by the $x$- and $y$-axes. This\ncan be achieved by toggling the ``color_by_columns_dropdown``, which\ncalculates the coloring for each column in the input data array. At the\nsame time, let\u2019s configure the choice of colorscale:\n\n\n"
      ]
    },
    {
      "cell_type": "code",
      "execution_count": null,
      "metadata": {
        "collapsed": false
      },
      "outputs": [],
      "source": [
        "plotly_kwargs = {\"node_trace_marker_colorscale\": \"Blues\"}\nfig = plot_static_mapper_graph(\n    pipe, data, color_by_columns_dropdown=True, plotly_kwargs=plotly_kwargs\n)\n# Display figure\nfig.show(config={\"scrollZoom\": True})"
      ]
    },
    {
      "cell_type": "markdown",
      "metadata": {},
      "source": [
        "In the dropdown menu, the entry ``color_variable`` refers to a\nuser-defined quantity to color by - by default it is the average value\nof the points in each node. In general, one can configure this quantity\nto be an array, a scikit-learn transformer, or a list of indices to\nselect from the data. For example, coloring by a PCA component can be\nimplemented as follows:\n\n\n"
      ]
    },
    {
      "cell_type": "code",
      "execution_count": null,
      "metadata": {
        "collapsed": false
      },
      "outputs": [],
      "source": [
        "# Initialise estimator to color graph by\npca = PCA(n_components=1).fit(data)\n\nfig = plot_static_mapper_graph(\n    pipe, data, color_by_columns_dropdown=True, color_variable=pca\n)\n# Display figure\nfig.show(config={\"scrollZoom\": True})"
      ]
    },
    {
      "cell_type": "markdown",
      "metadata": {},
      "source": [
        "Pass a pandas DataFrame as input\n~~~~~~~~~~~~~~~~~~~~~~~~~~~~~~~~\n\n\n"
      ]
    },
    {
      "cell_type": "markdown",
      "metadata": {},
      "source": [
        "It is also possible to feed ``plot_static_mapper_graph()`` a pandas\nDataFrame:\n\n\n"
      ]
    },
    {
      "cell_type": "code",
      "execution_count": null,
      "metadata": {
        "collapsed": false
      },
      "outputs": [],
      "source": [
        "data_df = pd.DataFrame(data, columns=[\"x\", \"y\"])\ndata_df.head()"
      ]
    },
    {
      "cell_type": "markdown",
      "metadata": {},
      "source": [
        "Before plotting we need to update the Mapper pipeline to know about the\nprojection onto the column names. This can be achieved using the\n``set_params()`` method as follows:\n\n\n"
      ]
    },
    {
      "cell_type": "code",
      "execution_count": null,
      "metadata": {
        "collapsed": false
      },
      "outputs": [],
      "source": [
        "pipe.set_params(filter_func=Projection(columns=[\"x\", \"y\"]))\n\nfig = plot_static_mapper_graph(pipe, data_df, color_by_columns_dropdown=True)\n# Display figure\nfig.show(config={\"scrollZoom\": True})"
      ]
    },
    {
      "cell_type": "markdown",
      "metadata": {},
      "source": [
        "Change the layout algorithm\n~~~~~~~~~~~~~~~~~~~~~~~~~~~\n\nBy default, ``plot_static_mapper_graph()`` uses the Kamada\u2013Kawai\nalgorithm for the layout; however any of the layout algorithms defined\nin python-igraph are supported (see\n`here <https://igraph.org/python/doc/igraph.Graph-class.html>`__ for a\nlist of possible layouts). For example, we can switch to the\nFruchterman\u2013Reingold layout as follows:\n\n\n"
      ]
    },
    {
      "cell_type": "code",
      "execution_count": null,
      "metadata": {
        "collapsed": false
      },
      "outputs": [],
      "source": [
        "# Reset back to numpy projection\npipe.set_params(filter_func=Projection(columns=[0, 1]))\n\nfig = plot_static_mapper_graph(\n    pipe, data, layout=\"fruchterman_reingold\", color_by_columns_dropdown=True\n)\n# Display figure\nfig.show(config={\"scrollZoom\": True})"
      ]
    },
    {
      "cell_type": "markdown",
      "metadata": {},
      "source": [
        "Change the layout dimension\n~~~~~~~~~~~~~~~~~~~~~~~~~~~\n\nIt is also possible to visualise the Mapper graph in 3-dimensions by\nconfiguring the ``layout_dim`` argument:\n\n\n"
      ]
    },
    {
      "cell_type": "code",
      "execution_count": null,
      "metadata": {
        "collapsed": false
      },
      "outputs": [],
      "source": [
        "fig = plot_static_mapper_graph(pipe, data, layout_dim=3, color_by_columns_dropdown=True)\n# Display figure\nfig.show(config={\"scrollZoom\": True})"
      ]
    },
    {
      "cell_type": "markdown",
      "metadata": {},
      "source": [
        "Run the Mapper pipeline\n-----------------------\n\nBehind the scenes of ``plot_static_mapper_graph()`` is a\n``MapperPipeline`` object ``pipe`` that can be used like a typical\nscikit-learn estimator. For example, to extract the underlying graph\ndata structure we can do the following:\n\n\n"
      ]
    },
    {
      "cell_type": "code",
      "execution_count": null,
      "metadata": {
        "collapsed": false
      },
      "outputs": [],
      "source": [
        "graph = pipe.fit_transform(data)"
      ]
    },
    {
      "cell_type": "markdown",
      "metadata": {},
      "source": [
        "The resulting graph is an `python-igraph <https://igraph.org/python/>`__\nobject that contains metadata that is stored in the form of\ndictionaries. We can access this data as follows:\n\n\n"
      ]
    },
    {
      "cell_type": "code",
      "execution_count": null,
      "metadata": {
        "collapsed": false
      },
      "outputs": [],
      "source": [
        "graph[\"node_metadata\"].keys()"
      ]
    },
    {
      "cell_type": "markdown",
      "metadata": {},
      "source": [
        "Here ``node_id`` is a globally unique node identifier used to construct\nthe graph, while ``pullback_set_label`` and ``partial_cluster_label``\nrefer to the interval and cluster sets described above. The\n``node_elements`` refers to the indices of our original data that belong\nto each node. For example, to find which points belong to the first node\nof the graph we can access the desired data as follows:\n\n\n"
      ]
    },
    {
      "cell_type": "code",
      "execution_count": null,
      "metadata": {
        "collapsed": false
      },
      "outputs": [],
      "source": [
        "node_id, node_elements = (\n    graph[\"node_metadata\"][\"node_id\"],\n    graph[\"node_metadata\"][\"node_elements\"],\n)\n\nprint(\n    \"Node Id: {}, \\nNode elements: {}, \\nData points: {}\".format(\n        node_id[0], node_elements[0], data[node_elements[0]]\n    )\n)"
      ]
    },
    {
      "cell_type": "markdown",
      "metadata": {},
      "source": [
        "The ``node_elements`` are handy for situations when we want to customise\ne.g.\u00a0the size of the node scale. In this example, we use the utility\nfunction ``set_node_sizeref()`` and pass the function as a plotly\nargument:\n\n\n"
      ]
    },
    {
      "cell_type": "code",
      "execution_count": null,
      "metadata": {
        "collapsed": false
      },
      "outputs": [],
      "source": [
        "# Configure scale for node sizes\nplotly_kwargs = {\n    \"node_trace_marker_sizeref\": set_node_sizeref(node_elements, node_scale=30)\n}\nfig = plot_static_mapper_graph(\n    pipe,\n    data,\n    layout_dim=3,\n    color_by_columns_dropdown=True,\n    plotly_kwargs=plotly_kwargs,\n)\n# Display figure\nfig.show(config={\"scrollZoom\": True})"
      ]
    },
    {
      "cell_type": "markdown",
      "metadata": {},
      "source": [
        "The resulting graph is much easier to decipher with the enlarged node\nscaling!\n\n\n"
      ]
    },
    {
      "cell_type": "markdown",
      "metadata": {},
      "source": [
        "Creating custom filter functions\n--------------------------------\n\nIn some cases, the list of filter functions provided in ``filter.py`` or\nscikit-learn may not be sufficient for the task at hand. In such cases,\none can pass any callable to the pipeline that acts *row-wise* on the\ninput data. For example, we can project by taking the sum of the\n$(x,y)$ coordinates as follows:\n\n\n"
      ]
    },
    {
      "cell_type": "code",
      "execution_count": null,
      "metadata": {
        "collapsed": false
      },
      "outputs": [],
      "source": [
        "filter_func = np.sum\n\npipe = make_mapper_pipeline(\n    filter_func=filter_func,\n    cover=cover,\n    clusterer=clusterer,\n    verbose=True,\n    n_jobs=n_jobs,\n)\n\nfig = plot_static_mapper_graph(pipe, data, plotly_kwargs=None)\n# Display figure\nfig.show(config={\"scrollZoom\": True})"
      ]
    },
    {
      "cell_type": "markdown",
      "metadata": {},
      "source": [
        "In general, any callable (i.e.\u00a0function) that operates **row-wise** can\nbe passed.\n\n\n"
      ]
    },
    {
      "cell_type": "markdown",
      "metadata": {},
      "source": [
        "Visualise the 2D Mapper graph interactively\n-------------------------------------------\n\nIn general, buidling useful Mapper graphs requires some iteration\nthrough the various parameters in the cover and clustering algorithm. To\nsimplify that process, giotto-tda provides an interactive figure that\ncan be configured in real-time. If invalid parameters are selected, the\n*Show logs* checkbox can be used to see what went wrong.\n\n\n"
      ]
    },
    {
      "cell_type": "code",
      "execution_count": null,
      "metadata": {
        "collapsed": false
      },
      "outputs": [],
      "source": [
        "pipe = make_mapper_pipeline()\n\n# Generate interactive plot\nplot_interactive_mapper_graph(pipe, data, color_by_columns_dropdown=True)"
      ]
    }
  ],
  "metadata": {
    "kernelspec": {
      "display_name": "Python 3",
      "language": "python",
      "name": "python3"
    },
    "language_info": {
      "codemirror_mode": {
        "name": "ipython",
        "version": 3
      },
      "file_extension": ".py",
      "mimetype": "text/x-python",
      "name": "python",
      "nbconvert_exporter": "python",
      "pygments_lexer": "ipython3",
      "version": "3.7.6"
    }
  },
  "nbformat": 4,
  "nbformat_minor": 0
}