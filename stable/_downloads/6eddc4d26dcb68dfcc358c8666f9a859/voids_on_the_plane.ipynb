{
  "cells": [
    {
      "cell_type": "code",
      "execution_count": null,
      "metadata": {
        "collapsed": false
      },
      "outputs": [],
      "source": [
        "%matplotlib inline"
      ]
    },
    {
      "cell_type": "markdown",
      "metadata": {},
      "source": [
        "\nCan two-dimensional topological voids exist in two dimensions?\n==============================================================\n\nLicense: AGPLv3\n^^^^^^^^^^^^^^^\n"
      ]
    },
    {
      "cell_type": "markdown",
      "metadata": {},
      "source": [
        "The classic example of a two-dimensional homology class is the \u201cvoid\u201d\nsurrounded by a sphere in three-dimensional space. Challenge question:\n**Can two-dimensional topological voids arise from point clouds in\ntwo-dimensional space?** We will answer this question programmatically\nby computing Vietoris-Rips persistence homology of random point clouds\nin the square $[0, 1] \\times [0, 1] \\subset \\mathbb{R}^2$.\n\n\n"
      ]
    },
    {
      "cell_type": "code",
      "execution_count": null,
      "metadata": {
        "collapsed": false
      },
      "outputs": [],
      "source": [
        "import numpy as np\nfrom gtda.homology import VietorisRipsPersistence as VR\nimport itertools\n\nimport matplotlib.pyplot as plt\n\n# Initializing the Vietoris-Rips transformer\nvr = VR(homology_dimensions=(2,), max_edge_length=np.inf)\nn_samples = 15000\nn_points = 6\n\n# Create n_samples point clouds of n_points points\nPCS = np.random.random((n_samples, n_points, 2))  \n# Compute persistence diagrams of all point clouds\nDGMS = vr.fit_transform(PCS)  \n\ndiffs = np.nan_to_num(DGMS[:, :, 1] - DGMS[:, :, 0])  # Compute lifetimes\nindices = np.argwhere(diffs != 0)  # Indices with non-zero lifetime\nprint('There are {} persistent homology classes in dimension 2 across all samples!'.format(len(indices[:, 0])))\nprint('There are {} different point clouds with at least one persistent homology class in dimension 2.'.format(len(np.unique(indices[:, 0]))))"
      ]
    },
    {
      "cell_type": "markdown",
      "metadata": {},
      "source": [
        "We can now plot the edges which exist when these persistent homology\nclasses are born. What do the clique complexes of the resulting graphs\nremind you of?\n\n\n"
      ]
    },
    {
      "cell_type": "code",
      "execution_count": null,
      "metadata": {
        "collapsed": false
      },
      "outputs": [],
      "source": [
        "for i in indices[:, 0]:\n    for e in itertools.combinations(PCS[i], 2):\n        if np.linalg.norm(e[0] - e[1]) < DGMS[i, 0, 1] - 0.00001:\n            edge = np.stack([e[0], e[1]])\n            plt.plot(edge[:, 0], edge[:, 1])\n    plt.show()"
      ]
    }
  ],
  "metadata": {
    "kernelspec": {
      "display_name": "Python 3",
      "language": "python",
      "name": "python3"
    },
    "language_info": {
      "codemirror_mode": {
        "name": "ipython",
        "version": 3
      },
      "file_extension": ".py",
      "mimetype": "text/x-python",
      "name": "python",
      "nbconvert_exporter": "python",
      "pygments_lexer": "ipython3",
      "version": "3.7.6"
    }
  },
  "nbformat": 4,
  "nbformat_minor": 0
}