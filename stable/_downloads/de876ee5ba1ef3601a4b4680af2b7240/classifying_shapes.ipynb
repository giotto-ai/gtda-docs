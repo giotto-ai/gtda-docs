{
  "cells": [
    {
      "cell_type": "code",
      "execution_count": null,
      "metadata": {
        "collapsed": false
      },
      "outputs": [],
      "source": [
        "%matplotlib inline"
      ]
    },
    {
      "cell_type": "markdown",
      "metadata": {},
      "source": [
        "\nCase study: Classification of shapes\n====================================\n\nLicense: AGPLv3\n'''''''''''''''\n\nThe following notebook explains how to use giotto-tda to be able to\nclassify topologically different high-dimensional spaces.\n\nThe first step consists in importing relevant *gtda* components and\nother useful libraries or modules.\n"
      ]
    },
    {
      "cell_type": "code",
      "execution_count": null,
      "metadata": {
        "collapsed": false
      },
      "outputs": [],
      "source": [
        "# Importing libraries\nfrom gtda.homology import VietorisRipsPersistence\nfrom gtda.diagrams import PersistenceEntropy, BettiCurve, PersistenceLandscape, HeatKernel\n\nimport numpy as np\n\nfrom sklearn.pipeline import Pipeline\nfrom sklearn.linear_model import LogisticRegression\nfrom sklearn.metrics import pairwise_distances\n\nimport matplotlib.pyplot as plt\nfrom mpl_toolkits.mplot3d import Axes3D"
      ]
    },
    {
      "cell_type": "markdown",
      "metadata": {},
      "source": [
        "Plotting functions\n==================\n\nThe *plotting.py* file is required to use the following plotting\nfunctions. It can be found in the *examples* folder on out github\nhttps://github.com/giotto-ai/giotto-tda.\n\n\n"
      ]
    },
    {
      "cell_type": "code",
      "execution_count": null,
      "metadata": {
        "collapsed": false
      },
      "outputs": [],
      "source": [
        "# Plotting functions\nfrom plotting import plot_diagram, plot_landscapes\nfrom plotting import plot_betti_surfaces, plot_betti_curves\nfrom plotting import plot_point_cloud"
      ]
    },
    {
      "cell_type": "markdown",
      "metadata": {},
      "source": [
        "Sampling orientable surfaces\n============================\n\nWe are going to consider three classical topological spaces: the circle,\nthe 2-torus and the 2-sphere. The purpose of this tutorial is to go\nthgough the most famous topological spaces and compute their homology\ngroups.\n\nEach of the topological spaces we are going to encounter will be\nsampled. The resulting point clound will be the input of the *persistent\nhomology pipeline*. The first step is to apply the Vietoris-Rips\ntechnique to the point cloud. Finally, the persistent homology groups\nwill be computed.\n\n\n"
      ]
    },
    {
      "cell_type": "code",
      "execution_count": null,
      "metadata": {
        "collapsed": false
      },
      "outputs": [],
      "source": [
        "# Representing the circle in 3d with parametric equations.\ncircle = np.asarray([[np.sin(t),np.cos(t),0] for t in range(400)])\nplot_point_cloud(circle)\n\n# Representing the sphere in 3d with parametric equations\nsphere = np.asarray([[np.cos(s)*np.cos(t),np.cos(s)*np.sin(t),np.sin(s)] for t in range(20) for s in range(20)])\nplot_point_cloud(sphere)\n\n# Representing the torus in 3d with parametric equations\ntorus = np.asarray([[(2+np.cos(s))*np.cos(t),(2+np.cos(s))*np.sin(t),np.sin(s)] for t in range(20) for s in range(20)])\nplot_point_cloud(torus)\n\n# Saving the results into an array\ntopological_spaces=np.asarray([circle,sphere,torus])"
      ]
    },
    {
      "cell_type": "markdown",
      "metadata": {},
      "source": [
        "Computing persistent homology\n=============================\n\nIn the next section we will use giotto-tda to compute the persistent\nhomology groups of the topological spaces we just constructed.\n\nWe will use the Vietoris-Rips technique to generate a filtration out of\na point cloud:\n\n.. figure:: https://miro.medium.com/max/1200/1*w3BiQI1OX93KXcezctRQTQ.gif\n   :alt: segment\n\n   SegmentLocal\n\n\n"
      ]
    },
    {
      "cell_type": "code",
      "execution_count": null,
      "metadata": {
        "collapsed": false
      },
      "outputs": [],
      "source": [
        "# the homology ranks we choose to consider\nhomologyDimensions = (0, 1 ,2)\npersistenceDiagram = VietorisRipsPersistence(metric='euclidean', max_edge_length=10,\n                                             homology_dimensions=homologyDimensions,\n                                             n_jobs=-1)\npersistenceDiagram.fit(topological_spaces)\n\n# List of all the time-pordered persistence diagrams obtained from the list of correlation matrices\nDiagrams = persistenceDiagram.transform(topological_spaces)\n\nprint(Diagrams.shape)"
      ]
    },
    {
      "cell_type": "markdown",
      "metadata": {},
      "source": [
        "Persistence diagrams\n====================\n\nThe topological information of the point cloud is synthesised in the\npersistence diagram. The horizontal axis corresponds to the moment in\nwhich an homological generator is born, while the vertical axis\ncorresponds to the moments in which an homological generator dies.\n\nThe generators of the homology groups (at given rank) are colored\ndifferently.\n\n\n"
      ]
    },
    {
      "cell_type": "code",
      "execution_count": null,
      "metadata": {
        "collapsed": false
      },
      "outputs": [],
      "source": [
        "# plotting the persistence diagram of the circle\nplot_diagram(Diagrams[0])\n\n# plotting the persistence diagram of the sphere\nplot_diagram(Diagrams[1])\n\n# plotting the persistence diagram of the torus\nplot_diagram(Diagrams[2])"
      ]
    },
    {
      "cell_type": "markdown",
      "metadata": {},
      "source": [
        "Conclusion of the first part\n============================\n\nAs you can see from the persistence diagrams, all the betti numbers were\nfound. Some other persistent generators are also appearing, depending on\nhow dense the sampling is and how much noise there is. For example, we\nsee a rather neat persistence diagram over the Torus bottle (wesee 2\npersistent generators for $H^1$ and 1 persistent generator for\n$H^2$). Notice though that there are other persistent H1\ngenerators, possibly due to the non-uniform sampling method we used for\nthe torus.\n\nOn the other hand, the persistence diagram for the circle is as perfect\nas it could be: one unique generator of $H^1$ and no other\npersistent generator, as expeceted.\n\n\n"
      ]
    },
    {
      "cell_type": "markdown",
      "metadata": {},
      "source": [
        "Classification of noisy orientable surfaces\n===========================================\n\nIn the next section we generate hundreds of noisy spheres and noisy\ntori. The effect of noise is to displace the points sampling the\naforementioned surfaces by a random amount in a random direction.\n\nThe Vietoris-Rips algorithm is used to compute persistence diagrams.\nAfterwards, from each diagram, the *persistece entropy* is computed.\n\nA simple linear classifier is then applied to the 3d-space of entropies\nto classify shapes.\n\n\n"
      ]
    },
    {
      "cell_type": "code",
      "execution_count": null,
      "metadata": {
        "collapsed": false
      },
      "outputs": [],
      "source": [
        "# building dataset\nn_train = 10\nn_range = 15\neps = 0.3\n\ntrain_Xs = [np.asarray([[np.cos(s)*np.cos(t) + eps*(np.random.rand(1)[0]-0.5),np.cos(s)*np.sin(t) + eps*(np.random.rand(1)[0]-0.5),np.sin(s) + eps*(np.random.rand(1)[0] - 0.5)] for t in range(n_range) for s in range(n_range)]) for kk in range(n_train)]\ntrain_ys = np.zeros(n_train)\ntrain_Xt = [np.asarray([[(2+np.cos(s))*np.cos(t) + eps*(np.random.rand(1)[0]-0.5),(2+np.cos(s))*np.sin(t) + eps*(np.random.rand(1)[0]-0.5),np.sin(s) + eps*(np.random.rand(1)[0] - 0.5)] for t in range(n_range) for s in range(n_range)]) for kk in range(n_train)]\ntrain_yt = np.ones(n_train)\n\n# complete training set\ntrain_X = np.concatenate((train_Xs, train_Xt))\ntrain_y = np.concatenate((train_ys, train_yt))\n\ntest_Xs = [np.asarray([[np.cos(s)*np.cos(t) + eps*(np.random.rand(1)[0]-0.5),np.cos(s)*np.sin(t) + eps*(np.random.rand(1)[0]-0.5),np.sin(s) + eps*(np.random.rand(1)[0] - 0.5)] for t in range(n_range) for s in range(n_range)]) for kk in range(n_train)]\ntest_ys = np.zeros(n_train)\ntest_Xt = [np.asarray([[(2+np.cos(s))*np.cos(t) + eps*(np.random.rand(1)[0]-0.5),(2+np.cos(s))*np.sin(t) + eps*(np.random.rand(1)[0]-0.5),np.sin(s) + eps*(np.random.rand(1)[0] - 0.5)] for t in range(n_range) for s in range(n_range)]) for kk in range(n_train)]\ntest_yt = np.ones(n_train)\n\n\n# complete test set\ntest_X = np.concatenate((test_Xs, test_Xt))\ntest_y = np.concatenate((test_ys, test_yt))\n\n# build persistence diagrams\n\n# the homology ranks we choose to consider\nhomologyDimensions = (0, 1, 2)\npersistenceDiagram = VietorisRipsPersistence(metric='euclidean',\n                                             max_edge_length=10,\n                                             homology_dimensions=homologyDimensions,\n                                             n_jobs=4)\npersistenceDiagram.fit(np.asarray(train_X))\n\n# List of all the time-ordered persistence diagrams obtained from the list of correlation matrices\ntrain_Diagrams = persistenceDiagram.transform(np.asarray(train_X))\ntest_Diagrams = persistenceDiagram.transform(np.asarray(test_X))"
      ]
    },
    {
      "cell_type": "markdown",
      "metadata": {},
      "source": [
        "Extract and plot persistent entropies\n-------------------------------------\n\n\n"
      ]
    },
    {
      "cell_type": "code",
      "execution_count": null,
      "metadata": {
        "collapsed": false
      },
      "outputs": [],
      "source": [
        "# Extract vector features from diagrams: persistence entropy\npe = PersistenceEntropy()\npe.fit(train_Diagrams)\nX_train = pe.transform(train_Diagrams)\nX_test = pe.transform(test_Diagrams)\n\nplot_point_cloud(X_train)\n\n# Training logistic regression\nlr = LogisticRegression(solver='lbfgs')\nlr.fit(X_train, train_y)\n# score\nlr.score(X_test, test_y)"
      ]
    },
    {
      "cell_type": "markdown",
      "metadata": {},
      "source": [
        "Generating non-orientable surfaces\n==================================\n\nWe are going to consider different classical shapes: the real projective\nspace and the Klein bottle. The purpose of the second part of the\ntutorial is to define shapes via a distance matrix. We also add noise to\nthe distace matrix: the main reason is not to have overlapping points in\nthe persistence diagram.\n\nEach of the topological spaces we are going to encounter will be sampled\ndiscretely. Aftewards the Vietoris-Rips technique will be applied to the\nsurface and the persistent homology groups will be computed.\n\n\n"
      ]
    },
    {
      "cell_type": "code",
      "execution_count": null,
      "metadata": {
        "collapsed": false
      },
      "outputs": [],
      "source": [
        "# computing the adjacency matrix of the grid points, with boundaries identified as in the real projective space\nfrom sklearn.utils.graph_shortest_path import graph_shortest_path\n\n# This functions prepares the grid matrix with boundary identification\ndef make_matrix(rows, cols):\n    n = rows*cols\n    M = np.zeros((n,n))\n    for r in range(rows):\n        for c in range(cols):\n            i = r*cols + c\n            # Two inner diagonals\n            if c > 0: M[i-1,i] = M[i,i-1] = 1 + 0.15*(np.random.rand(1)[0]-0.5)\n            # Two outer diagonals\n            if r > 0: M[i-cols,i] = M[i,i-cols] = 1 + 0.15*(np.random.rand(1)[0]-0.5)\n            # vertical twisted boundary identification\n            if c == 0: M[n-i-1,i] = M[i,n-i-1] = 1 + 0.15*(np.random.rand(1)[0]-0.5)\n            # horizontal twisted boundary identification\n            if r == 0: M[n-i-1,i] = M[i,n-i-1] = 1 + 0.15*(np.random.rand(1)[0]-0.5)\n                \n    return M\n\nM = make_matrix(20,20)\n\n# computing the distance matrix of the points over the Klein bottle\n\nrp2 = graph_shortest_path(M)\n\n# Plot of the distance matrix\nfigure = plt.figure(figsize=(10,10))\nplt.imshow(rp2)\nplt.title('Reciprocal distance between points over the Klein bottle')\nplt.colorbar()\nplt.show()\n\n# computing the adjacency matrix of the grid points, with boundaries identified as in the klein bottle\nfrom sklearn.utils.graph_shortest_path import graph_shortest_path\n\n# This functions prepares the grid matrix with boundary identification\ndef make_matrix(rows, cols):\n    n = rows*cols\n    M = np.zeros((n,n))\n    for r in range(rows):\n        for c in range(cols):\n            i = r*cols + c\n            # Two inner diagonals\n            if c > 0: M[i-1,i] = M[i,i-1] = 1 + 0.15*(np.random.rand(1)[0]-0.5)\n            # Two outer diagonals\n            if r > 0: M[i-cols,i] = M[i,i-cols] = 1 + 0.15*(np.random.rand(1)[0]-0.5)\n            # vertical boundary identification\n            if c == 0: M[i+cols-1,i] = M[i,i+cols-1] = 1 + 0.15*(np.random.rand(1)[0]-0.5)\n            # horizontal twisted boundary identification\n            if r == 0: M[n-i-1,i] = M[i,n-i-1] = 1 + 0.15*(np.random.rand(1)[0]-0.5)\n                \n    return M\n\nM = make_matrix(20,20)\n\n# computing the distance matrix of the points over the Klein bottle\n\nklein = graph_shortest_path(M)\n\n# Plot of the distance matrix\nfigure = plt.figure(figsize=(10,10))\nplt.imshow(klein)\nplt.title('Reciprocal distance between points over the Klein bottle')\nplt.colorbar()\nplt.show()\n\n# Saving the results into an array\ntopological_spaces_mat = np.asarray([rp2, klein])"
      ]
    },
    {
      "cell_type": "markdown",
      "metadata": {},
      "source": [
        "Computing persistent homology\n=============================\n\nIn the next section we will use giotto-tda to compute the persistent\nhomology groups of the topological spaces we just constructed.\n\n\n"
      ]
    },
    {
      "cell_type": "code",
      "execution_count": null,
      "metadata": {
        "collapsed": false
      },
      "outputs": [],
      "source": [
        "# the homology ranks we choose to consider\nhomologyDimensions = (0, 1 ,2)\npersistenceDiagram = VietorisRipsPersistence(metric='precomputed', max_edge_length=np.inf, homology_dimensions=homologyDimensions, n_jobs=-1)\npersistenceDiagram.fit(topological_spaces_mat)\n\n# List of all the time-ordered persistence diagrams obtained from the list of correlation matrices\nzDiagrams = persistenceDiagram.transform(topological_spaces_mat)"
      ]
    },
    {
      "cell_type": "markdown",
      "metadata": {},
      "source": [
        "Persistence diagrams\n====================\n\nThe topological information of the point cloud is synthesised in the\npersistence diagram. The horizontal axis corresponds to the moment in\nwhich an homological generator is born, while the vertical axis\ncorresponds to the moments in which an homological generator dies.\n\nThe generators of the homology groups (at given rank) are colored\ndifferently.\n\n\n"
      ]
    },
    {
      "cell_type": "code",
      "execution_count": null,
      "metadata": {
        "collapsed": false
      },
      "outputs": [],
      "source": [
        "# plotting the persistence diagram of the projective space\nplot_diagram(zDiagrams[0])\n\n# plotting the persistence diagram of the Klein bottle\nplot_diagram(zDiagrams[1])"
      ]
    },
    {
      "cell_type": "markdown",
      "metadata": {},
      "source": [
        "Conclusion\n==========\n\nAs you can see from the persistence diagrams, all the Betti numbers were\nfound. Some other persistent generators are also appearing, depending on\nhow dense the sampling is and how much noise there is.\n\nFor example, we see a rather neat persistence diagram over the Klein\nbottle (we see 2 persistent generators for $H^1$ and 1 persistent\ngenerator for $H^2$). Notice that all these homology groups are\ncomputed over the field $\\mathbb{F}_2$.\n\n\n"
      ]
    }
  ],
  "metadata": {
    "kernelspec": {
      "display_name": "Python 3",
      "language": "python",
      "name": "python3"
    },
    "language_info": {
      "codemirror_mode": {
        "name": "ipython",
        "version": 3
      },
      "file_extension": ".py",
      "mimetype": "text/x-python",
      "name": "python",
      "nbconvert_exporter": "python",
      "pygments_lexer": "ipython3",
      "version": "3.7.6"
    }
  },
  "nbformat": 4,
  "nbformat_minor": 0
}